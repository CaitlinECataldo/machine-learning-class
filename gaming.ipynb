{
 "cells": [
  {
   "cell_type": "code",
   "execution_count": 1,
   "id": "4c4397a8",
   "metadata": {},
   "outputs": [],
   "source": [
    "from myproject.mypackage.pipeline import modelDictionary, runPipeline, find_outliers_z, boxplotGrid\n",
    "import pandas as pd\n",
    "import matplotlib.pyplot as plt\n",
    "import seaborn as sns\n",
    "from sklearn.preprocessing import OneHotEncoder\n",
    "from sklearn.model_selection import train_test_split\n",
    "from sklearn.preprocessing import StandardScaler, LabelEncoder\n",
    "import numpy as np"
   ]
  },
  {
   "cell_type": "code",
   "execution_count": 2,
   "id": "f49e3377",
   "metadata": {},
   "outputs": [
    {
     "name": "stdout",
     "output_type": "stream",
     "text": [
      "accuracy: -0.836\n",
      "Config: {}\n",
      "Train R² Score: 0.8409\n",
      "Test R² Score: 0.8365\n",
      "Test Set Accuracy: 0.8365\n",
      "---------------------------\n"
     ]
    },
    {
     "data": {
      "text/plain": [
       "array(['Medium', 'Medium', 'High', ..., 'High', 'Medium', 'Medium'],\n",
       "      shape=(40034,), dtype='<U6')"
      ]
     },
     "execution_count": 2,
     "metadata": {},
     "output_type": "execute_result"
    }
   ],
   "source": [
    "df = pd.read_csv('online_gaming_behavior_dataset.csv')\n",
    "df.drop('PlayerID', axis=1, inplace=True)\n",
    "X = df.drop('EngagementLevel', axis=1)\n",
    "y = df['EngagementLevel']\n",
    "\n",
    "results = runPipeline(X, y,showChart=False, parameters={'model_name': 'nb'})\n",
    "predictions = results['pipeline_results']['pred_df']\n",
    "model = results['pipeline_results']['best_model']\n",
    "\n",
    "model.predict(X)\n"
   ]
  },
  {
   "cell_type": "code",
   "execution_count": 3,
   "id": "7665ca5f",
   "metadata": {},
   "outputs": [
    {
     "name": "stdout",
     "output_type": "stream",
     "text": [
      "Class order: ['High' 'Low' 'Medium']\n"
     ]
    },
    {
     "data": {
      "text/html": [
       "<div>\n",
       "<style scoped>\n",
       "    .dataframe tbody tr th:only-of-type {\n",
       "        vertical-align: middle;\n",
       "    }\n",
       "\n",
       "    .dataframe tbody tr th {\n",
       "        vertical-align: top;\n",
       "    }\n",
       "\n",
       "    .dataframe thead th {\n",
       "        text-align: right;\n",
       "    }\n",
       "</style>\n",
       "<table border=\"1\" class=\"dataframe\">\n",
       "  <thead>\n",
       "    <tr style=\"text-align: right;\">\n",
       "      <th></th>\n",
       "      <th>Actual Label</th>\n",
       "      <th>Predicted Label</th>\n",
       "      <th>Predicted Probability High</th>\n",
       "      <th>Predicted Probability Low</th>\n",
       "      <th>Predicted Probability Medium</th>\n",
       "    </tr>\n",
       "  </thead>\n",
       "  <tbody>\n",
       "    <tr>\n",
       "      <th>34667</th>\n",
       "      <td>Medium</td>\n",
       "      <td>Medium</td>\n",
       "      <td>0.20</td>\n",
       "      <td>0.08</td>\n",
       "      <td>0.72</td>\n",
       "    </tr>\n",
       "    <tr>\n",
       "      <th>22227</th>\n",
       "      <td>Medium</td>\n",
       "      <td>Medium</td>\n",
       "      <td>0.22</td>\n",
       "      <td>0.17</td>\n",
       "      <td>0.61</td>\n",
       "    </tr>\n",
       "    <tr>\n",
       "      <th>24899</th>\n",
       "      <td>Medium</td>\n",
       "      <td>Medium</td>\n",
       "      <td>0.01</td>\n",
       "      <td>0.32</td>\n",
       "      <td>0.67</td>\n",
       "    </tr>\n",
       "    <tr>\n",
       "      <th>35415</th>\n",
       "      <td>Medium</td>\n",
       "      <td>Medium</td>\n",
       "      <td>0.22</td>\n",
       "      <td>0.16</td>\n",
       "      <td>0.62</td>\n",
       "    </tr>\n",
       "    <tr>\n",
       "      <th>21440</th>\n",
       "      <td>Medium</td>\n",
       "      <td>Medium</td>\n",
       "      <td>0.32</td>\n",
       "      <td>0.17</td>\n",
       "      <td>0.51</td>\n",
       "    </tr>\n",
       "  </tbody>\n",
       "</table>\n",
       "</div>"
      ],
      "text/plain": [
       "      Actual Label Predicted Label  Predicted Probability High  \\\n",
       "34667       Medium          Medium                        0.20   \n",
       "22227       Medium          Medium                        0.22   \n",
       "24899       Medium          Medium                        0.01   \n",
       "35415       Medium          Medium                        0.22   \n",
       "21440       Medium          Medium                        0.32   \n",
       "\n",
       "       Predicted Probability Low  Predicted Probability Medium  \n",
       "34667                       0.08                          0.72  \n",
       "22227                       0.17                          0.61  \n",
       "24899                       0.32                          0.67  \n",
       "35415                       0.16                          0.62  \n",
       "21440                       0.17                          0.51  "
      ]
     },
     "execution_count": 3,
     "metadata": {},
     "output_type": "execute_result"
    }
   ],
   "source": [
    "df = pd.read_csv('online_gaming_behavior_dataset.csv')\n",
    "df.drop('PlayerID', axis=1, inplace=True)\n",
    "X = df.drop('EngagementLevel', axis=1)\n",
    "y = df['EngagementLevel']\n",
    "y\n",
    "\n",
    "\n",
    "describe_number = df.describe()\n",
    "\n",
    "#runPipeline(X, y, {'model': 'nb'})\n",
    "\n",
    "#modelDictionary()\n",
    "\n",
    "describe_number\n",
    "\n",
    "\n",
    "def get_object_cols(df):\n",
    "    \n",
    "    pivot_describe = df.describe(include='O')\n",
    "    dummy_df = df[pivot_describe.columns[pivot_describe.loc['unique'] == 2].to_list()]\n",
    "    encode_df = df[pivot_describe.columns[pivot_describe.loc['unique'] > 2].to_list()]\n",
    "\n",
    "    result = {'describe_pivot': pivot_describe, 'dummy_df': dummy_df, 'encode_df': encode_df}\n",
    "\n",
    "    return result\n",
    "\n",
    "def assignDummies(dummy_df):\n",
    "    dummies = pd.get_dummies(dummy_df, prefix='dummy', drop_first=True)\n",
    "    return dummies\n",
    "\n",
    "def assignEncoding(encode_df):\n",
    "    encoder = OneHotEncoder(sparse_output=False)\n",
    "    encode_transform = encoder.fit_transform(encode_df)\n",
    "    encoded = pd.DataFrame(encode_transform, columns=encoder.get_feature_names_out(encode_df.columns))\n",
    "    return encoded\n",
    "\n",
    "def encodeDataframe(df):\n",
    "    new_df = df.copy()\n",
    "    dummy_cols = get_object_cols(new_df)['dummy_df']\n",
    "    encode_cols = get_object_cols(new_df)['encode_df']\n",
    "\n",
    "    new_df.drop(columns=list(dummy_cols.columns) + list(encode_cols.columns), axis=1, inplace=True)\n",
    "\n",
    "    dummy_df = assignEncoding(dummy_cols)\n",
    "    encode_df = assignEncoding(encode_cols)\n",
    "\n",
    "    combined_df = pd.concat([new_df, dummy_df, encode_df], axis=1)\n",
    "    \n",
    "    return combined_df\n",
    "\n",
    "def correlation_heatmap(df):\n",
    "    plt.figure(figsize=(12, 10))\n",
    "    correlation_matrix = df.corr(numeric_only=True)\n",
    "    sns.heatmap(correlation_matrix, annot=True, cmap='coolwarm', cbar=True)\n",
    "    plt.title('Correlation Heatmap')\n",
    "    plt.show()\n",
    "\n",
    "encoded_X = encodeDataframe(X)\n",
    "#correlation_heatmap(X)\n",
    "\n",
    "# Split the dataset into training and testing sets\n",
    "X_train, X_test, y_train, y_test = train_test_split(encoded_X, y, test_size=0.4, random_state=42)\n",
    "\n",
    "# Apply StandardScaler\n",
    "scaler = StandardScaler()\n",
    "X_train_sc = scaler.fit_transform(X_train)\n",
    "X_test_sc = scaler.transform(X_test)\n",
    "\n",
    "# Import Required Libraries and apply Naive Bayes algorithm\n",
    "from sklearn.naive_bayes import GaussianNB\n",
    "nb_model = GaussianNB()\n",
    "nb_model.fit(X_train_sc, y_train)\n",
    "\n",
    "# Predict on testing set\n",
    "y_pred_nb = nb_model.predict(X_test_sc)\n",
    "y_pred_prob_nb = nb_model.predict_proba(X_test_sc)\n",
    "\n",
    "\n",
    "# Determine the class order\n",
    "class_order = nb_model.classes_\n",
    "print(\"Class order:\", class_order)\n",
    "\n",
    "# Create a DataFrame to display actual and predicted labels with probabilities\n",
    "results_df = pd.DataFrame({\n",
    "    'Actual Label': y_test,\n",
    "    'Predicted Label': y_pred_nb,\n",
    "})\n",
    "\n",
    "# Add predicted probabilities with correct class names\n",
    "for i, class_name in enumerate(class_order):\n",
    "    results_df[f'Predicted Probability {class_name}'] = np.round(y_pred_prob_nb[:, i], 2)\n",
    "\n",
    "# Display the first few rows of the results DataFrame\n",
    "results_df.head()\n",
    "\n"
   ]
  },
  {
   "cell_type": "code",
   "execution_count": 4,
   "id": "9ef281b2",
   "metadata": {},
   "outputs": [
    {
     "data": {
      "image/png": "[encoded data removed]",
      "text/plain": [
       "<Figure size 1000x800 with 7 Axes>"
      ]
     },
     "metadata": {},
     "output_type": "display_data"
    }
   ],
   "source": [
    "boxplotGrid(df)"
   ]
  },
  {
   "cell_type": "code",
   "execution_count": null,
   "id": "cc2a91b7",
   "metadata": {},
   "outputs": [],
   "source": []
  }
 ],
 "metadata": {
  "kernelspec": {
   "display_name": ".venv",
   "language": "python",
   "name": "python3"
  },
  "language_info": {
   "codemirror_mode": {
    "name": "ipython",
    "version": 3
   },
   "file_extension": ".py",
   "mimetype": "text/x-python",
   "name": "python",
   "nbconvert_exporter": "python",
   "pygments_lexer": "ipython3",
   "version": "3.13.1"
  }
 },
 "nbformat": 4,
 "nbformat_minor": 5
}
